{
 "cells": [
  {
   "cell_type": "code",
   "execution_count": 1,
   "metadata": {},
   "outputs": [],
   "source": [
    "import numpy as np\n",
    "import pandas as pd\n",
    "import tensorflow as tf\n",
    "import matplotlib.pylab as plt\n",
    "from sklearn.preprocessing import MinMaxScaler\n",
    "from sklearn.model_selection import train_test_split\n",
    "from sklearn import svm, datasets\n",
    "import sklearn.model_selection as model_selection\n",
    "from sklearn.metrics import accuracy_score\n",
    "from sklearn.metrics import f1_score\n",
    "from sklearn.preprocessing import StandardScaler"
   ]
  },
  {
   "cell_type": "markdown",
   "metadata": {},
   "source": [
    "We have used time domain features as input to SVM. First data for each fault type are collected and segmented into smaller parts. \n",
    "In our case, one segment for each fault type contains 2048 data points.\n",
    " Then time domain features for each segment are calculated and assembled in a feature matrix. \n",
    " There are 230 segments for each fault and we have taken 9 time domain features.\n",
    "  The time domain features are maximum, minimum, mean value, standard deviation, root mean square value (RMS), skewness, kurtosis, crest factor, and form factor. \n",
    "  Thus our feature matrix is of size . One column containing fault type is also added to the feature matrix. Thus final feature matrix is of size ."
   ]
  },
  {
   "cell_type": "code",
   "execution_count": 2,
   "metadata": {},
   "outputs": [
    {
     "data": {
      "text/html": [
       "<div>\n",
       "<style scoped>\n",
       "    .dataframe tbody tr th:only-of-type {\n",
       "        vertical-align: middle;\n",
       "    }\n",
       "\n",
       "    .dataframe tbody tr th {\n",
       "        vertical-align: top;\n",
       "    }\n",
       "\n",
       "    .dataframe thead th {\n",
       "        text-align: right;\n",
       "    }\n",
       "</style>\n",
       "<table border=\"1\" class=\"dataframe\">\n",
       "  <thead>\n",
       "    <tr style=\"text-align: right;\">\n",
       "      <th></th>\n",
       "      <th>max</th>\n",
       "      <th>min</th>\n",
       "      <th>mean</th>\n",
       "      <th>sd</th>\n",
       "      <th>rms</th>\n",
       "      <th>skewness</th>\n",
       "      <th>kurtosis</th>\n",
       "      <th>crest</th>\n",
       "      <th>form</th>\n",
       "      <th>fault</th>\n",
       "    </tr>\n",
       "  </thead>\n",
       "  <tbody>\n",
       "    <tr>\n",
       "      <th>0</th>\n",
       "      <td>0.35986</td>\n",
       "      <td>-0.41890</td>\n",
       "      <td>0.017840</td>\n",
       "      <td>0.122746</td>\n",
       "      <td>0.124006</td>\n",
       "      <td>-0.118571</td>\n",
       "      <td>-0.042219</td>\n",
       "      <td>2.901946</td>\n",
       "      <td>6.950855</td>\n",
       "      <td>Ball_007_1</td>\n",
       "    </tr>\n",
       "    <tr>\n",
       "      <th>1</th>\n",
       "      <td>0.46772</td>\n",
       "      <td>-0.36111</td>\n",
       "      <td>0.022255</td>\n",
       "      <td>0.132488</td>\n",
       "      <td>0.134312</td>\n",
       "      <td>0.174699</td>\n",
       "      <td>-0.081548</td>\n",
       "      <td>3.482334</td>\n",
       "      <td>6.035202</td>\n",
       "      <td>Ball_007_1</td>\n",
       "    </tr>\n",
       "    <tr>\n",
       "      <th>2</th>\n",
       "      <td>0.46855</td>\n",
       "      <td>-0.43809</td>\n",
       "      <td>0.020470</td>\n",
       "      <td>0.149651</td>\n",
       "      <td>0.151008</td>\n",
       "      <td>0.040339</td>\n",
       "      <td>-0.274069</td>\n",
       "      <td>3.102819</td>\n",
       "      <td>7.376926</td>\n",
       "      <td>Ball_007_1</td>\n",
       "    </tr>\n",
       "    <tr>\n",
       "      <th>3</th>\n",
       "      <td>0.58475</td>\n",
       "      <td>-0.54303</td>\n",
       "      <td>0.020960</td>\n",
       "      <td>0.157067</td>\n",
       "      <td>0.158422</td>\n",
       "      <td>-0.023266</td>\n",
       "      <td>0.134692</td>\n",
       "      <td>3.691097</td>\n",
       "      <td>7.558387</td>\n",
       "      <td>Ball_007_1</td>\n",
       "    </tr>\n",
       "    <tr>\n",
       "      <th>4</th>\n",
       "      <td>0.44685</td>\n",
       "      <td>-0.57891</td>\n",
       "      <td>0.022167</td>\n",
       "      <td>0.138189</td>\n",
       "      <td>0.139922</td>\n",
       "      <td>-0.081534</td>\n",
       "      <td>0.402783</td>\n",
       "      <td>3.193561</td>\n",
       "      <td>6.312085</td>\n",
       "      <td>Ball_007_1</td>\n",
       "    </tr>\n",
       "    <tr>\n",
       "      <th>...</th>\n",
       "      <td>...</td>\n",
       "      <td>...</td>\n",
       "      <td>...</td>\n",
       "      <td>...</td>\n",
       "      <td>...</td>\n",
       "      <td>...</td>\n",
       "      <td>...</td>\n",
       "      <td>...</td>\n",
       "      <td>...</td>\n",
       "      <td>...</td>\n",
       "    </tr>\n",
       "    <tr>\n",
       "      <th>2295</th>\n",
       "      <td>0.21425</td>\n",
       "      <td>-0.19839</td>\n",
       "      <td>0.010769</td>\n",
       "      <td>0.064100</td>\n",
       "      <td>0.064983</td>\n",
       "      <td>-0.212497</td>\n",
       "      <td>-0.119312</td>\n",
       "      <td>3.297037</td>\n",
       "      <td>6.034174</td>\n",
       "      <td>Normal_1</td>\n",
       "    </tr>\n",
       "    <tr>\n",
       "      <th>2296</th>\n",
       "      <td>0.21967</td>\n",
       "      <td>-0.20882</td>\n",
       "      <td>0.013136</td>\n",
       "      <td>0.068654</td>\n",
       "      <td>0.069883</td>\n",
       "      <td>-0.061308</td>\n",
       "      <td>-0.295122</td>\n",
       "      <td>3.143410</td>\n",
       "      <td>5.319958</td>\n",
       "      <td>Normal_1</td>\n",
       "    </tr>\n",
       "    <tr>\n",
       "      <th>2297</th>\n",
       "      <td>0.20799</td>\n",
       "      <td>-0.21613</td>\n",
       "      <td>0.012571</td>\n",
       "      <td>0.067128</td>\n",
       "      <td>0.068279</td>\n",
       "      <td>-0.154754</td>\n",
       "      <td>-0.071405</td>\n",
       "      <td>3.046161</td>\n",
       "      <td>5.431299</td>\n",
       "      <td>Normal_1</td>\n",
       "    </tr>\n",
       "    <tr>\n",
       "      <th>2298</th>\n",
       "      <td>0.21425</td>\n",
       "      <td>-0.22405</td>\n",
       "      <td>0.012608</td>\n",
       "      <td>0.066813</td>\n",
       "      <td>0.067977</td>\n",
       "      <td>-0.326966</td>\n",
       "      <td>0.023662</td>\n",
       "      <td>3.151821</td>\n",
       "      <td>5.391672</td>\n",
       "      <td>Normal_1</td>\n",
       "    </tr>\n",
       "    <tr>\n",
       "      <th>2299</th>\n",
       "      <td>0.19610</td>\n",
       "      <td>-0.24721</td>\n",
       "      <td>0.012209</td>\n",
       "      <td>0.063243</td>\n",
       "      <td>0.064396</td>\n",
       "      <td>-0.351762</td>\n",
       "      <td>0.226294</td>\n",
       "      <td>3.045244</td>\n",
       "      <td>5.274392</td>\n",
       "      <td>Normal_1</td>\n",
       "    </tr>\n",
       "  </tbody>\n",
       "</table>\n",
       "<p>2300 rows × 10 columns</p>\n",
       "</div>"
      ],
      "text/plain": [
       "          max      min      mean        sd       rms  skewness  kurtosis  \\\n",
       "0     0.35986 -0.41890  0.017840  0.122746  0.124006 -0.118571 -0.042219   \n",
       "1     0.46772 -0.36111  0.022255  0.132488  0.134312  0.174699 -0.081548   \n",
       "2     0.46855 -0.43809  0.020470  0.149651  0.151008  0.040339 -0.274069   \n",
       "3     0.58475 -0.54303  0.020960  0.157067  0.158422 -0.023266  0.134692   \n",
       "4     0.44685 -0.57891  0.022167  0.138189  0.139922 -0.081534  0.402783   \n",
       "...       ...      ...       ...       ...       ...       ...       ...   \n",
       "2295  0.21425 -0.19839  0.010769  0.064100  0.064983 -0.212497 -0.119312   \n",
       "2296  0.21967 -0.20882  0.013136  0.068654  0.069883 -0.061308 -0.295122   \n",
       "2297  0.20799 -0.21613  0.012571  0.067128  0.068279 -0.154754 -0.071405   \n",
       "2298  0.21425 -0.22405  0.012608  0.066813  0.067977 -0.326966  0.023662   \n",
       "2299  0.19610 -0.24721  0.012209  0.063243  0.064396 -0.351762  0.226294   \n",
       "\n",
       "         crest      form       fault  \n",
       "0     2.901946  6.950855  Ball_007_1  \n",
       "1     3.482334  6.035202  Ball_007_1  \n",
       "2     3.102819  7.376926  Ball_007_1  \n",
       "3     3.691097  7.558387  Ball_007_1  \n",
       "4     3.193561  6.312085  Ball_007_1  \n",
       "...        ...       ...         ...  \n",
       "2295  3.297037  6.034174    Normal_1  \n",
       "2296  3.143410  5.319958    Normal_1  \n",
       "2297  3.046161  5.431299    Normal_1  \n",
       "2298  3.151821  5.391672    Normal_1  \n",
       "2299  3.045244  5.274392    Normal_1  \n",
       "\n",
       "[2300 rows x 10 columns]"
      ]
     },
     "execution_count": 2,
     "metadata": {},
     "output_type": "execute_result"
    }
   ],
   "source": [
    "df = pd.read_csv('feature_time_48k_2048_load_1.csv')\n",
    "df"
   ]
  },
  {
   "cell_type": "code",
   "execution_count": 3,
   "metadata": {},
   "outputs": [
    {
     "data": {
      "text/plain": [
       "(2300,)"
      ]
     },
     "execution_count": 3,
     "metadata": {},
     "output_type": "execute_result"
    }
   ],
   "source": [
    "df['fault'] = pd.Categorical(df['fault']).codes\n",
    "df['fault'].shape\n"
   ]
  },
  {
   "cell_type": "code",
   "execution_count": 4,
   "metadata": {},
   "outputs": [
    {
     "data": {
      "text/plain": [
       "(1840, 10)"
      ]
     },
     "execution_count": 4,
     "metadata": {},
     "output_type": "execute_result"
    }
   ],
   "source": [
    "data_train, data_test = model_selection.train_test_split(df, test_size=0.20, random_state=729,stratify=df['fault'])\n",
    "data_train.shape\n"
   ]
  },
  {
   "cell_type": "code",
   "execution_count": 5,
   "metadata": {},
   "outputs": [],
   "source": [
    "scaler = StandardScaler()\n",
    "trained_data_scaled = scaler.fit_transform(data_train.iloc[:,:-1])"
   ]
  },
  {
   "cell_type": "code",
   "execution_count": 6,
   "metadata": {},
   "outputs": [
    {
     "data": {
      "text/plain": [
       "(1840, 9)"
      ]
     },
     "execution_count": 6,
     "metadata": {},
     "output_type": "execute_result"
    }
   ],
   "source": [
    "test_data_scaled = scaler.fit_transform(data_test.iloc[:,:-1])\n",
    "test_data_scaled.shape\n",
    "trained_data_scaled.shape"
   ]
  },
  {
   "cell_type": "code",
   "execution_count": 7,
   "metadata": {},
   "outputs": [],
   "source": [
    "from sklearn.model_selection import StratifiedKFold\n",
    "from sklearn.svm import SVC"
   ]
  },
  {
   "cell_type": "markdown",
   "metadata": {},
   "source": [
    "Intuitively, the gamma parameter defines how far the influence of a single training example reaches, with low values meaning ‘far’ and high values meaning ‘close’. The gamma parameters can be seen as the inverse of the radius of influence of samples selected by the model as support vectors.\n",
    "\n",
    "The C parameter trades off correct classification of training examples against maximization of the decision function’s margin. For larger values of C, a smaller margin will be accepted if the decision function is better at classifying all training points correctly. A lower C will encourage a larger margin, therefore a simpler decision function, at the cost of training accuracy. In other words C behaves as a regularization parameter in the SVM.\n",
    "\n",
    "The first plot is a visualization of the decision function for a variety of parameter values on a simplified classification problem involving only 2 input features and 2 possible target classes (binary classification). Note that this kind of plot is not possible to do for problems with more features or target classes.\n",
    "\n",
    "The second plot is a heatmap of the classifier’s cross-validation accuracy as a function of C and gamma. For this example we explore a relatively large grid for illustration purposes. In practice, a logarithmic grid from  to  is usually sufficient. If the best parameters lie on the boundaries of the grid, it can be extended in that direction in a subsequent search.\n",
    "\n",
    "Note that the heat map plot has a special colorbar with a midpoint value close to the score values of the best performing models so as to make it easy to tell them apart in the blink of an eye.\n",
    "\n",
    "The behavior of the model is very sensitive to the gamma parameter. If gamma is too large, the radius of the area of influence of the support vectors only includes the support vector itself and no amount of regularization with C will be able to prevent overfitting.\n",
    "\n",
    "When gamma is very small, the model is too constrained and cannot capture the complexity or “shape” of the data. The region of influence of any selected support vector would include the whole training set. The resulting model will behave similarly to a linear model with a set of hyperplanes that separate the centers of high density of any pair of two classes.\n",
    "\n",
    "For intermediate values, we can see on the second plot that good models can be found on a diagonal of C and gamma. Smooth models (lower gamma values) can be made more complex by increasing the importance of classifying each point correctly (larger C values) hence the diagonal of good performing models.\n",
    "\n",
    "Finally, one can also observe that for some intermediate values of gamma we get equally performing models when C becomes very large. This suggests that the set of support vectors does not change anymore. The radius of the RBF kernel alone acts as a good structural regularizer. Increasing C further doesn’t help, likely because there are no more training points in violation (inside the margin or wrongly classified), or at least no better solution can be found. Scores being equal, it may make sense to use the smaller C values, since very high C values typically increase fitting time.\n",
    "\n",
    "On the other hand, lower C values generally lead to more support vectors, which may increase prediction time. Therefore, lowering the value of C involves a trade-off between fitting time and prediction time."
   ]
  },
  {
   "cell_type": "code",
   "execution_count": 8,
   "metadata": {},
   "outputs": [
    {
     "name": "stdout",
     "output_type": "stream",
     "text": [
      "The minimum CV error happens for : C = 27.825594022071257\n",
      "The best gamma is gamma= 0.2136734693877551\n",
      "The CV error for those values is:  0.03260869565217395\n"
     ]
    },
    {
     "data": {
      "text/plain": [
       "SVC(C=27.825594022071257, gamma=0.2136734693877551, kernel='poly')"
      ]
     },
     "execution_count": 8,
     "metadata": {},
     "output_type": "execute_result"
    }
   ],
   "source": [
    "# In this list, I will save the different CV errors that I am going to compare.\n",
    "ave_CV_errors = []\n",
    "\n",
    "\n",
    "C_range = np.logspace(-3, 7, num=10) # C ranges from 10^-3 to 10^6 with a log increment \n",
    "gamma_range = np.linspace(0.01, 5, 50) # gamma ranges from 0.01 to 5 with linear increment and 50 samples\n",
    "\n",
    "\n",
    "for C1 in C_range:\n",
    "    for gamm in gamma_range: \n",
    "        # I will use 10-fold cross validation and I will shuffle\n",
    "        # the data before each split!\n",
    "        skf = StratifiedKFold(n_splits=10, shuffle=True) \n",
    "        skf.get_n_splits(trained_data_scaled)\n",
    "        # Initialize a list in order to get the errors from 10-fold CV\n",
    "        list_10fold = []\n",
    "        # Now, I will fit my SVM model in the k-1 folds!\n",
    "        classif = SVC(C=C1, kernel='rbf', gamma=gamm, decision_function_shape='ovr')\n",
    "        classif.fit(trained_data_scaled,data_train['fault'])\n",
    "        list_10fold.append(1 - classif.score(test_data_scaled, data_test['fault']))\n",
    "        # Calculate the average error of list_10fold and save it in ave_CV_errors list\n",
    "        ave_CV_errors.append(sum(list_10fold) / len(list_10fold))\n",
    "\n",
    "# Convert the ave_CV_errors list into a numpy array\n",
    "Arrray = np.asarray(ave_CV_errors)\n",
    "Arrray = Arrray.reshape(10,50) # Indexes are (C, gamma)\n",
    "# Take the indexes of the minimum element of the Arrray\n",
    "ind = np.unravel_index(np.argmin(Arrray, axis=None), Arrray.shape)\n",
    "\n",
    "# The list ave_CV_errors contains the average CV errors obtained by the 10 different values of C\n",
    "# and the 50 different values of gamma!\n",
    "# In order to pick the best values, we are going to pick the lowest value out of this list!!\n",
    "print(\"The minimum CV error happens for : C =\", C_range[ind[0]])\n",
    "print(\"The best gamma is gamma=\", gamma_range[ind[1]])\n",
    "print(\"The CV error for those values is: \", min(ave_CV_errors))\n",
    "\n",
    "# At this point, we have to train our model using the best values \n",
    "# calculated from the 10-fold cross validation!\n",
    "classif = SVC(C=C_range[ind[0]], kernel='poly', gamma=gamma_range[ind[1]], decision_function_shape='ovr')\n",
    "classif.fit(trained_data_scaled, data_train['fault'])\n",
    "\n",
    "\n",
    "            "
   ]
  },
  {
   "cell_type": "code",
   "execution_count": 9,
   "metadata": {},
   "outputs": [
    {
     "name": "stdout",
     "output_type": "stream",
     "text": [
      "For our cwru data we have: \n",
      "\n",
      "The accuracy of the model on the training set is:  97.5 %\n",
      "The cross-validation accuracy of the model is:  96.73913043478261 %\n",
      "The test accuracy ' is:  96.08695652173913 %\n",
      "\n"
     ]
    }
   ],
   "source": [
    "print(\"For our cwru data we have:\",\"\\n\")\n",
    "print(\"The accuracy of the model on the training set is: \", classif.score(trained_data_scaled, data_train['fault'])*100, \"%\")\n",
    "print(\"The cross-validation accuracy of the model is: \", (1 - min(ave_CV_errors))*100, \"%\")\n",
    "# And now, we will test it on the test set\n",
    "print(\"The test accuracy ' is: \", classif.score(test_data_scaled, data_test['fault'])*100, \"%\\n\")"
   ]
  },
  {
   "cell_type": "code",
   "execution_count": 10,
   "metadata": {},
   "outputs": [],
   "source": [
    "from sklearn.metrics import confusion_matrix,accuracy_score\n",
    "import seaborn as sns"
   ]
  },
  {
   "cell_type": "code",
   "execution_count": 11,
   "metadata": {},
   "outputs": [],
   "source": [
    "train_predictions = classif.predict(trained_data_scaled)\n",
    "test_predictions = classif.predict(test_data_scaled)"
   ]
  },
  {
   "cell_type": "code",
   "execution_count": 12,
   "metadata": {},
   "outputs": [],
   "source": [
    "train_confu_matrix = confusion_matrix(data_train['fault'], train_predictions)\n",
    "test_confu_matrix = confusion_matrix(data_test['fault'], test_predictions)"
   ]
  },
  {
   "cell_type": "code",
   "execution_count": 13,
   "metadata": {},
   "outputs": [
    {
     "data": {
      "image/png": "[encoded data removed]",
      "text/plain": [
       "<Figure size 1440x720 with 2 Axes>"
      ]
     },
     "metadata": {
      "needs_background": "light"
     },
     "output_type": "display_data"
    }
   ],
   "source": [
    "fault_type = ['fault1','fault2','fault3','fault4','fault5','fault6','fault7','fault8','fault9','fault10']\n",
    "plt.figure(1,figsize=(20,10))\n",
    "plt.subplot(121)\n",
    "sns.heatmap(train_confu_matrix, annot= True,fmt = \"d\",\n",
    "xticklabels=fault_type, yticklabels=fault_type, cmap = \"Blues\", cbar = False)\n",
    "plt.title('Training Confusion Matrix')\n",
    "plt.xlabel('Predicted')\n",
    "plt.ylabel('True')\n",
    "plt.subplot(122)\n",
    "sns.heatmap(train_confu_matrix/184, annot= True,\n",
    "xticklabels=fault_type, yticklabels=fault_type, cmap = \"Blues\", cbar = False)\n",
    "plt.title('Training Confusion Matrix (in %age)')\n",
    "plt.xlabel('Predicted')\n",
    "plt.ylabel('True')\n",
    "plt.show()"
   ]
  },
  {
   "cell_type": "code",
   "execution_count": 15,
   "metadata": {},
   "outputs": [
    {
     "data": {
      "image/png": "[encoded data removed]",
      "text/plain": [
       "<Figure size 1440x720 with 2 Axes>"
      ]
     },
     "metadata": {
      "needs_background": "light"
     },
     "output_type": "display_data"
    }
   ],
   "source": [
    "fault_type = ['fault1','fault2','fault3','fault4','fault5','fault6','fault7','fault8','fault9','fault10']\n",
    "plt.figure(1,figsize=(20,10))\n",
    "plt.subplot(121)\n",
    "sns.heatmap(test_confu_matrix, annot= True,fmt = \"d\",\n",
    "xticklabels=fault_type, yticklabels=fault_type, cmap = \"Blues\", cbar = False)\n",
    "plt.title('Testing Confusion Matrix')\n",
    "plt.xlabel('Predicted')\n",
    "plt.ylabel('True')\n",
    "plt.subplot(122)\n",
    "sns.heatmap(test_confu_matrix/46, annot= True,\n",
    "xticklabels=fault_type, yticklabels=fault_type, cmap = \"Blues\", cbar = False)\n",
    "plt.title('Testing Confusion Matrix (in %age)')\n",
    "plt.xlabel('Predicted')\n",
    "plt.ylabel('True')\n",
    "plt.show()"
   ]
  }
 ],
 "metadata": {
  "interpreter": {
   "hash": "2444bfd887cfa3ddb1bbe29238eb5ca6467380079196028fbc3e19d2654c5eaf"
  },
  "kernelspec": {
   "display_name": "Python 3.8.10 64-bit ('sum_int': conda)",
   "name": "python3"
  },
  "language_info": {
   "codemirror_mode": {
    "name": "ipython",
    "version": 3
   },
   "file_extension": ".py",
   "mimetype": "text/x-python",
   "name": "python",
   "nbconvert_exporter": "python",
   "pygments_lexer": "ipython3",
   "version": "3.8.10"
  },
  "orig_nbformat": 4
 },
 "nbformat": 4,
 "nbformat_minor": 2
}
